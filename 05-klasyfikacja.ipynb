{
 "cells": [
  {
   "cell_type": "markdown",
   "id": "a53bebbe",
   "metadata": {},
   "source": [
    "## Rozdział 5: Klasyfikacja\n",
    "\n",
    "### 5.1 Wprowadzenie\n",
    "\n",
    "Klasyfikacja jest jednym z podstawowych problemów uczenia maszynowego, gdzie celem jest przypisanie obserwacji do jednej z predefiniowanych kategorii. Jest szeroko stosowana w różnych dziedzinach, takich jak wykrywanie spamu, diagnoza medyczna, rozpoznawanie obrazów i analiza sentymentu. W tym rozdziale omówimy podstawowe koncepcje, techniki i miary oceny związane z klasyfikacją.\n",
    "\n",
    "### 5.2 Rodzaje Klasyfikacji\n",
    "\n",
    "#### 5.2.1 Klasyfikacja Binarną\n",
    "\n",
    "Klasyfikacja binarną dotyczy problemów, gdzie istnieją tylko dwie klasy. Przykładem może być klasyfikacja wiadomości e-mail jako spam lub nie-spam.\n",
    "\n",
    "#### 5.2.2 Klasyfikacja Wieloklasowa\n",
    "\n",
    "Klasyfikacja wieloklasowa obejmuje problemy, w których istnieje więcej niż dwie klasy. Na przykład rozpoznawanie ręcznie pisanych cyfr (0-9) jest problemem klasyfikacji wieloklasowej.\n",
    "\n",
    "### 5.3 Popularne Algorytmy Klasyfikacyjne\n",
    "\n",
    "#### 5.3.1 Regresja Logistyczna\n",
    "\n",
    "Regresja logistyczna jest jednym z najprostszych i najbardziej powszechnie stosowanych algorytmów klasyfikacji binarnej. Modeluje prawdopodobieństwo przynależności do jednej z dwóch klas.\n",
    "\n",
    "##### Wzór na regresję logistyczną:\n",
    "\n",
    "$ \\text{logit}(p) = \\ln\\left(\\frac{p}{1-p}\\right) = \\beta_0 + \\beta_1 x_1 + \\beta_2 x_2 + ... + \\beta_n x_n $\n",
    "\n",
    "gdzie \\( p \\) to prawdopodobieństwo przynależności do klasy pozytywnej.\n",
    "\n",
    "#### 5.3.2 K-Nearest Neighbors (KNN)\n",
    "\n",
    "KNN to algorytm leniwy, który klasyfikuje nową obserwację na podstawie klas najbliższych sąsiadów w zbiorze treningowym.\n",
    "\n",
    "#### 5.3.3 Drzewa Decyzyjne\n",
    "\n",
    "Drzewa decyzyjne klasyfikują dane, tworząc drzewo decyzji oparte na cechach danych. Każdy węzeł drzewa reprezentuje test na cechę, a każdy liść reprezentuje klasę.\n",
    "\n",
    "#### 5.3.4 Random Forest\n",
    "\n",
    "Random Forest to zbiór drzew decyzyjnych, który poprawia dokładność klasyfikacji poprzez agregację wyników wielu drzew decyzyjnych.\n",
    "\n",
    "#### 5.3.5 Support Vector Machines (SVM)\n",
    "\n",
    "SVM to potężny algorytm klasyfikacyjny, który znajduje hiperplan maksymalizujący margines między klasami w przestrzeni cech.\n",
    "\n",
    "#### 5.3.6 Naive Bayes\n",
    "\n",
    "Naive Bayes jest prostym i skutecznym algorytmem klasyfikacyjnym opartym na twierdzeniu Bayesa z założeniem niezależności cech.\n",
    "\n",
    "### 5.4 Kluczowe Koncepcje\n",
    "\n",
    "#### 5.4.1 Macierz Błędów\n",
    "\n",
    "Macierz błędów (confusion matrix) jest podstawowym narzędziem do oceny wydajności modelu klasyfikacyjnego. Składa się z czterech elementów: True Positives (TP), True Negatives (TN), False Positives (FP) i False Negatives (FN).\n",
    "\n",
    "#### 5.4.2 Miary Wydajności\n",
    "\n",
    "- **Dokładność (Accuracy):** Stosunek liczby poprawnych przewidywań do całkowitej liczby przewidywań.\n",
    "- **Precyzja (Precision):** Stosunek liczby poprawnie przewidywanych pozytywnych próbek do wszystkich próbek przewidywanych jako pozytywne.\n",
    "- **Czułość (Recall):** Stosunek liczby poprawnie przewidywanych pozytywnych próbek do wszystkich rzeczywistych pozytywnych próbek.\n",
    "- **F1-Score:** Średnia harmoniczna precyzji i czułości, zapewniająca równowagę między nimi.\n",
    "- **ROC i AUC:** Krzywa ROC ilustruje związek między True Positive Rate a False Positive Rate, a AUC mierzy obszar pod tą krzywą.\n",
    "\n",
    "### 5.5 Proces Klasyfikacji\n",
    "\n",
    "#### 5.5.1 Przygotowanie Danych\n",
    "\n",
    "Przygotowanie danych obejmuje zbieranie danych, oczyszczanie, normalizację i podział na zestawy treningowe i testowe.\n",
    "\n",
    "#### 5.5.2 Trenowanie Modelu\n",
    "\n",
    "Polega na dostosowaniu parametrów modelu do danych treningowych, aby zoptymalizować jego wydajność.\n",
    "\n",
    "#### 5.5.3 Walidacja Modelu\n",
    "\n",
    "Walidacja modelu odbywa się poprzez ocenę jego wydajności na zbiorze walidacyjnym i dostosowanie hiperparametrów.\n",
    "\n",
    "#### 5.5.4 Testowanie Modelu\n",
    "\n",
    "Testowanie modelu polega na ocenie jego wydajności na wcześniej niewidzianych danych testowych.\n",
    "\n",
    "### 5.6 Przykłady Zastosowania\n",
    "\n",
    "#### 5.6.1 Wykrywanie Spamu\n",
    "\n",
    "Klasyfikacja jest szeroko stosowana do wykrywania spamu w wiadomościach e-mail, wykorzystując algorytmy takie jak Naive Bayes.\n",
    "\n",
    "#### 5.6.2 Diagnoza Medyczna\n",
    "\n",
    "Algorytmy klasyfikacyjne są używane do diagnozy chorób na podstawie danych medycznych, takich jak wyniki badań laboratoryjnych i obrazy medyczne.\n",
    "\n",
    "#### 5.6.3 Rozpoznawanie Obrazów\n",
    "\n",
    "Klasyfikacja jest kluczowa w rozpoznawaniu obrazów, gdzie modele uczą się rozpoznawać obiekty na obrazach.\n",
    "\n",
    "### 5.7 Zakończenie\n",
    "\n",
    "Klasyfikacja jest fundamentalnym zadaniem uczenia maszynowego z szerokim zakresem zastosowań w różnych dziedzinach. Zrozumienie różnych algorytmów klasyfikacyjnych, kluczowych koncepcji oraz miar wydajności jest niezbędne do tworzenia efektywnych modeli klasyfikacyjnych. Dzięki odpowiedniemu przygotowaniu danych i właściwej ocenie modeli możemy osiągnąć wysoką dokładność i niezawodność w przewidywaniu klas dla nowych obserwacji."
   ]
  },
  {
   "cell_type": "markdown",
   "id": "14e8e8ec",
   "metadata": {},
   "source": [
    "# Importowanie i Przygotowanie Danych\n",
    "Najpierw zaimportujemy i przygotujemy dane. Wykorzystamy zbiór danych Iris dostępny w scikit-learn."
   ]
  },
  {
   "cell_type": "code",
   "execution_count": 3,
   "id": "58bec289",
   "metadata": {},
   "outputs": [],
   "source": [
    "# Importowanie bibliotek\n",
    "import numpy as np\n",
    "import pandas as pd\n",
    "from sklearn.model_selection import train_test_split\n",
    "from sklearn.preprocessing import StandardScaler\n",
    "from sklearn.metrics import classification_report, confusion_matrix\n",
    "import seaborn as sns\n",
    "import matplotlib.pyplot as plt\n",
    "\n",
    "# Załadowanie przykładowego zbioru danych - Iris\n",
    "from sklearn.datasets import load_iris\n",
    "iris = load_iris()\n",
    "\n",
    "# Konwersja do DataFrame\n",
    "data = pd.DataFrame(data=iris.data, columns=iris.feature_names)\n",
    "data['target'] = iris.target\n",
    "\n",
    "# Podział danych na cechy (X) i etykiety (y)\n",
    "X = data.iloc[:, :-1].values\n",
    "y = data.iloc[:, -1].values\n",
    "\n",
    "# Podział danych na zestaw treningowy i testowy\n",
    "X_train, X_test, y_train, y_test = train_test_split(X, y, test_size=0.2, random_state=42)\n",
    "\n",
    "# Skalowanie cech\n",
    "scaler = StandardScaler()\n",
    "X_train = scaler.fit_transform(X_train)\n",
    "X_test = scaler.transform(X_test)"
   ]
  },
  {
   "cell_type": "markdown",
   "id": "b9ff4a85",
   "metadata": {},
   "source": [
    "## 5.3.1 Regresja Logistyczna"
   ]
  },
  {
   "cell_type": "code",
   "execution_count": 4,
   "id": "4f4c2738",
   "metadata": {},
   "outputs": [
    {
     "name": "stdout",
     "output_type": "stream",
     "text": [
      "Regresja Logistyczna\n",
      "[[10  0  0]\n",
      " [ 0  9  0]\n",
      " [ 0  0 11]]\n",
      "              precision    recall  f1-score   support\n",
      "\n",
      "           0       1.00      1.00      1.00        10\n",
      "           1       1.00      1.00      1.00         9\n",
      "           2       1.00      1.00      1.00        11\n",
      "\n",
      "    accuracy                           1.00        30\n",
      "   macro avg       1.00      1.00      1.00        30\n",
      "weighted avg       1.00      1.00      1.00        30\n",
      "\n"
     ]
    }
   ],
   "source": [
    "from sklearn.linear_model import LogisticRegression\n",
    "\n",
    "# Trenowanie modelu\n",
    "logreg = LogisticRegression(max_iter=200)\n",
    "logreg.fit(X_train, y_train)\n",
    "\n",
    "# Przewidywanie wartości na zestawie testowym\n",
    "y_pred = logreg.predict(X_test)\n",
    "\n",
    "# Ocena modelu\n",
    "print(\"Regresja Logistyczna\")\n",
    "print(confusion_matrix(y_test, y_pred))\n",
    "print(classification_report(y_test, y_pred))"
   ]
  },
  {
   "cell_type": "markdown",
   "id": "c306c08e",
   "metadata": {},
   "source": [
    "## 5.3.2 K-Nearest Neighbors (KNN)"
   ]
  },
  {
   "cell_type": "code",
   "execution_count": 5,
   "id": "66c97dc1",
   "metadata": {},
   "outputs": [
    {
     "name": "stdout",
     "output_type": "stream",
     "text": [
      "K-Nearest Neighbors\n",
      "[[10  0  0]\n",
      " [ 0  9  0]\n",
      " [ 0  0 11]]\n",
      "              precision    recall  f1-score   support\n",
      "\n",
      "           0       1.00      1.00      1.00        10\n",
      "           1       1.00      1.00      1.00         9\n",
      "           2       1.00      1.00      1.00        11\n",
      "\n",
      "    accuracy                           1.00        30\n",
      "   macro avg       1.00      1.00      1.00        30\n",
      "weighted avg       1.00      1.00      1.00        30\n",
      "\n"
     ]
    }
   ],
   "source": [
    "from sklearn.neighbors import KNeighborsClassifier\n",
    "\n",
    "# Trenowanie modelu\n",
    "knn = KNeighborsClassifier(n_neighbors=5)\n",
    "knn.fit(X_train, y_train)\n",
    "\n",
    "# Przewidywanie wartości na zestawie testowym\n",
    "y_pred = knn.predict(X_test)\n",
    "\n",
    "# Ocena modelu\n",
    "print(\"K-Nearest Neighbors\")\n",
    "print(confusion_matrix(y_test, y_pred))\n",
    "print(classification_report(y_test, y_pred))\n"
   ]
  },
  {
   "cell_type": "markdown",
   "id": "3acd9f06",
   "metadata": {},
   "source": [
    "## 5.3.3 Drzewa Decyzyjne"
   ]
  },
  {
   "cell_type": "code",
   "execution_count": 6,
   "id": "e9a4c971",
   "metadata": {},
   "outputs": [
    {
     "name": "stdout",
     "output_type": "stream",
     "text": [
      "Drzewa Decyzyjne\n",
      "[[10  0  0]\n",
      " [ 0  9  0]\n",
      " [ 0  0 11]]\n",
      "              precision    recall  f1-score   support\n",
      "\n",
      "           0       1.00      1.00      1.00        10\n",
      "           1       1.00      1.00      1.00         9\n",
      "           2       1.00      1.00      1.00        11\n",
      "\n",
      "    accuracy                           1.00        30\n",
      "   macro avg       1.00      1.00      1.00        30\n",
      "weighted avg       1.00      1.00      1.00        30\n",
      "\n"
     ]
    }
   ],
   "source": [
    "from sklearn.tree import DecisionTreeClassifier\n",
    "\n",
    "# Trenowanie modelu\n",
    "tree = DecisionTreeClassifier(random_state=42)\n",
    "tree.fit(X_train, y_train)\n",
    "\n",
    "# Przewidywanie wartości na zestawie testowym\n",
    "y_pred = tree.predict(X_test)\n",
    "\n",
    "# Ocena modelu\n",
    "print(\"Drzewa Decyzyjne\")\n",
    "print(confusion_matrix(y_test, y_pred))\n",
    "print(classification_report(y_test, y_pred))\n"
   ]
  },
  {
   "cell_type": "markdown",
   "id": "b12d74ae",
   "metadata": {},
   "source": [
    "## 5.3.4 Random Forest"
   ]
  },
  {
   "cell_type": "code",
   "execution_count": 7,
   "id": "14b2371b",
   "metadata": {},
   "outputs": [
    {
     "name": "stdout",
     "output_type": "stream",
     "text": [
      "Random Forest\n",
      "[[10  0  0]\n",
      " [ 0  9  0]\n",
      " [ 0  0 11]]\n",
      "              precision    recall  f1-score   support\n",
      "\n",
      "           0       1.00      1.00      1.00        10\n",
      "           1       1.00      1.00      1.00         9\n",
      "           2       1.00      1.00      1.00        11\n",
      "\n",
      "    accuracy                           1.00        30\n",
      "   macro avg       1.00      1.00      1.00        30\n",
      "weighted avg       1.00      1.00      1.00        30\n",
      "\n"
     ]
    }
   ],
   "source": [
    "from sklearn.ensemble import RandomForestClassifier\n",
    "\n",
    "# Trenowanie modelu\n",
    "forest = RandomForestClassifier(n_estimators=100, random_state=42)\n",
    "forest.fit(X_train, y_train)\n",
    "\n",
    "# Przewidywanie wartości na zestawie testowym\n",
    "y_pred = forest.predict(X_test)\n",
    "\n",
    "# Ocena modelu\n",
    "print(\"Random Forest\")\n",
    "print(confusion_matrix(y_test, y_pred))\n",
    "print(classification_report(y_test, y_pred))"
   ]
  },
  {
   "cell_type": "markdown",
   "id": "d0dffd70",
   "metadata": {},
   "source": [
    "## 5.3.5 Support Vector Machines (SVM)"
   ]
  },
  {
   "cell_type": "code",
   "execution_count": 8,
   "id": "6c38d5ed",
   "metadata": {},
   "outputs": [
    {
     "name": "stdout",
     "output_type": "stream",
     "text": [
      "Support Vector Machines\n",
      "[[10  0  0]\n",
      " [ 0  8  1]\n",
      " [ 0  0 11]]\n",
      "              precision    recall  f1-score   support\n",
      "\n",
      "           0       1.00      1.00      1.00        10\n",
      "           1       1.00      0.89      0.94         9\n",
      "           2       0.92      1.00      0.96        11\n",
      "\n",
      "    accuracy                           0.97        30\n",
      "   macro avg       0.97      0.96      0.97        30\n",
      "weighted avg       0.97      0.97      0.97        30\n",
      "\n"
     ]
    }
   ],
   "source": [
    "from sklearn.svm import SVC\n",
    "\n",
    "# Trenowanie modelu\n",
    "svm = SVC(kernel='linear', random_state=42)\n",
    "svm.fit(X_train, y_train)\n",
    "\n",
    "# Przewidywanie wartości na zestawie testowym\n",
    "y_pred = svm.predict(X_test)\n",
    "\n",
    "# Ocena modelu\n",
    "print(\"Support Vector Machines\")\n",
    "print(confusion_matrix(y_test, y_pred))\n",
    "print(classification_report(y_test, y_pred))"
   ]
  },
  {
   "cell_type": "markdown",
   "id": "ca0cd77e",
   "metadata": {},
   "source": [
    "## 5.3.6 Naive Bayes"
   ]
  },
  {
   "cell_type": "code",
   "execution_count": 9,
   "id": "7035d715",
   "metadata": {},
   "outputs": [
    {
     "name": "stdout",
     "output_type": "stream",
     "text": [
      "Naive Bayes\n",
      "[[10  0  0]\n",
      " [ 0  9  0]\n",
      " [ 0  0 11]]\n",
      "              precision    recall  f1-score   support\n",
      "\n",
      "           0       1.00      1.00      1.00        10\n",
      "           1       1.00      1.00      1.00         9\n",
      "           2       1.00      1.00      1.00        11\n",
      "\n",
      "    accuracy                           1.00        30\n",
      "   macro avg       1.00      1.00      1.00        30\n",
      "weighted avg       1.00      1.00      1.00        30\n",
      "\n"
     ]
    }
   ],
   "source": [
    "from sklearn.naive_bayes import GaussianNB\n",
    "\n",
    "# Trenowanie modelu\n",
    "nb = GaussianNB()\n",
    "nb.fit(X_train, y_train)\n",
    "\n",
    "# Przewidywanie wartości na zestawie testowym\n",
    "y_pred = nb.predict(X_test)\n",
    "\n",
    "# Ocena modelu\n",
    "print(\"Naive Bayes\")\n",
    "print(confusion_matrix(y_test, y_pred))\n",
    "print(classification_report(y_test, y_pred))"
   ]
  },
  {
   "cell_type": "markdown",
   "id": "9ba78a8c",
   "metadata": {},
   "source": [
    "## Wizualizacja Macierzy Błędów\n",
    "\n",
    "Dla lepszej wizualizacji wyników możemy wyświetlić macierze błędów w formie wykresów cieplnych (heatmap)."
   ]
  },
  {
   "cell_type": "code",
   "execution_count": 10,
   "id": "cb676695",
   "metadata": {},
   "outputs": [
    {
     "data": {
      "image/png": "[encoded data removed]",
      "text/plain": [
       "<Figure size 432x288 with 2 Axes>"
      ]
     },
     "metadata": {
      "needs_background": "light"
     },
     "output_type": "display_data"
    },
    {
     "data": {
      "image/png": "[encoded data removed]",
      "text/plain": [
       "<Figure size 432x288 with 2 Axes>"
      ]
     },
     "metadata": {
      "needs_background": "light"
     },
     "output_type": "display_data"
    },
    {
     "data": {
      "image/png": "[encoded data removed]",
      "text/plain": [
       "<Figure size 432x288 with 2 Axes>"
      ]
     },
     "metadata": {
      "needs_background": "light"
     },
     "output_type": "display_data"
    },
    {
     "data": {
      "image/png": "[encoded data removed]",
      "text/plain": [
       "<Figure size 432x288 with 2 Axes>"
      ]
     },
     "metadata": {
      "needs_background": "light"
     },
     "output_type": "display_data"
    },
    {
     "data": {
      "image/png": "[encoded data removed]",
      "text/plain": [
       "<Figure size 432x288 with 2 Axes>"
      ]
     },
     "metadata": {
      "needs_background": "light"
     },
     "output_type": "display_data"
    },
    {
     "data": {
      "image/png": "[encoded data removed]",
      "text/plain": [
       "<Figure size 432x288 with 2 Axes>"
      ]
     },
     "metadata": {
      "needs_background": "light"
     },
     "output_type": "display_data"
    }
   ],
   "source": [
    "# Funkcja pomocnicza do wyświetlania macierzy błędów\n",
    "def plot_confusion_matrix(y_test, y_pred, title):\n",
    "    cm = confusion_matrix(y_test, y_pred)\n",
    "    sns.heatmap(cm, annot=True, fmt='d', cmap='Blues', xticklabels=iris.target_names, yticklabels=iris.target_names)\n",
    "    plt.title(title)\n",
    "    plt.xlabel('Przewidywana etykieta')\n",
    "    plt.ylabel('Prawdziwa etykieta')\n",
    "    plt.show()\n",
    "\n",
    "# Wyświetlanie macierzy błędów dla każdego modelu\n",
    "models = {'Regresja Logistyczna': logreg, 'KNN': knn, 'Drzewa Decyzyjne': tree, 'Random Forest': forest, 'SVM': svm, 'Naive Bayes': nb}\n",
    "for name, model in models.items():\n",
    "    y_pred = model.predict(X_test)\n",
    "    plot_confusion_matrix(y_test, y_pred, name)"
   ]
  },
  {
   "cell_type": "code",
   "execution_count": null,
   "id": "8597e98c",
   "metadata": {},
   "outputs": [],
   "source": []
  }
 ],
 "metadata": {
  "kernelspec": {
   "display_name": "Python 3 (ipykernel)",
   "language": "python",
   "name": "python3"
  },
  "language_info": {
   "codemirror_mode": {
    "name": "ipython",
    "version": 3
   },
   "file_extension": ".py",
   "mimetype": "text/x-python",
   "name": "python",
   "nbconvert_exporter": "python",
   "pygments_lexer": "ipython3",
   "version": "3.9.12"
  }
 },
 "nbformat": 4,
 "nbformat_minor": 5
}
